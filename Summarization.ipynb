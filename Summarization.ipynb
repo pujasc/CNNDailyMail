{
  "nbformat": 4,
  "nbformat_minor": 0,
  "metadata": {
    "colab": {
      "name": "Summarization.ipynb",
      "provenance": [],
      "collapsed_sections": [],
      "authorship_tag": "ABX9TyNklHjuc7qTeJLA4RwV1zsQ",
      "include_colab_link": true
    },
    "kernelspec": {
      "name": "python3",
      "display_name": "Python 3"
    }
  },
  "cells": [
    {
      "cell_type": "markdown",
      "metadata": {
        "id": "view-in-github",
        "colab_type": "text"
      },
      "source": [
        "<a href=\"https://colab.research.google.com/github/pujasc/CNNDailyMail/blob/master/Summarization.ipynb\" target=\"_parent\"><img src=\"https://colab.research.google.com/assets/colab-badge.svg\" alt=\"Open In Colab\"/></a>"
      ]
    },
    {
      "cell_type": "markdown",
      "metadata": {
        "id": "T5iCMI3NaFnr",
        "colab_type": "text"
      },
      "source": [
        "Data is fetched from Github Repository"
      ]
    },
    {
      "cell_type": "code",
      "metadata": {
        "id": "QCXtL288GTZq",
        "colab_type": "code",
        "outputId": "ad3c768b-2c62-4f23-e5fa-fbf64ddb3aa4",
        "colab": {
          "base_uri": "https://localhost:8080/",
          "height": 156
        }
      },
      "source": [
        "!git clone https://github.com/pujasc/CNNDailyMail.git\n",
        "#!ls CNNDailyMail"
      ],
      "execution_count": 0,
      "outputs": [
        {
          "output_type": "stream",
          "text": [
            "Cloning into 'CNNDailyMail'...\n",
            "remote: Enumerating objects: 3, done.\u001b[K\n",
            "remote: Counting objects: 100% (3/3), done.\u001b[K\n",
            "remote: Compressing objects: 100% (3/3), done.\u001b[K\n",
            "remote: Total 332 (delta 0), reused 0 (delta 0), pack-reused 329\u001b[K\n",
            "Receiving objects: 100% (332/332), 480.37 MiB | 21.36 MiB/s, done.\n",
            "Resolving deltas: 100% (5/5), done.\n",
            "Checking out files: 100% (315/315), done.\n"
          ],
          "name": "stdout"
        }
      ]
    }
  ]
}