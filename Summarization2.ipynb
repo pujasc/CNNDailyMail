{
  "nbformat": 4,
  "nbformat_minor": 0,
  "metadata": {
    "colab": {
      "name": "Summarization.ipynb",
      "provenance": [],
      "collapsed_sections": [],
      "machine_shape": "hm",
      "authorship_tag": "ABX9TyNLbp1vqudSZBANIIE7gfS8",
      "include_colab_link": true
    },
    "kernelspec": {
      "name": "python3",
      "display_name": "Python 3"
    },
    "accelerator": "GPU"
  },
  "cells": [
    {
      "cell_type": "markdown",
      "metadata": {
        "id": "view-in-github",
        "colab_type": "text"
      },
      "source": [
        "<a href=\"https://colab.research.google.com/github/pujasc/CNNDailyMail/blob/master/Summarization2.ipynb\" target=\"_parent\"><img src=\"https://colab.research.google.com/assets/colab-badge.svg\" alt=\"Open In Colab\"/></a>"
      ]
    },
    {
      "cell_type": "markdown",
      "metadata": {
        "id": "T5iCMI3NaFnr",
        "colab_type": "text"
      },
      "source": [
        "#Data \n",
        "The tookenized and chunked Data is fetched from Github Repository."
      ]
    },
    {
      "cell_type": "code",
      "metadata": {
        "id": "QCXtL288GTZq",
        "colab_type": "code",
        "outputId": "7b5de4f8-bec7-4e7b-fa4f-6cd4f2589442",
        "colab": {
          "base_uri": "https://localhost:8080/",
          "height": 35
        }
      },
      "source": [
        "!git clone https://github.com/pujasc/CNNDailymail_CSV.git\n",
        "#!ls CNNDailyMail"
      ],
      "execution_count": 18,
      "outputs": [
        {
          "output_type": "stream",
          "text": [
            "fatal: destination path 'CNNDailymail_CSV' already exists and is not an empty directory.\n"
          ],
          "name": "stdout"
        }
      ]
    },
    {
      "cell_type": "code",
      "metadata": {
        "id": "cdzxq0HGs7iS",
        "colab_type": "code",
        "outputId": "8eef7474-d1bb-4d15-ae3d-b9ee4e2bbbb9",
        "colab": {
          "base_uri": "https://localhost:8080/",
          "height": 52
        }
      },
      "source": [
        "!ls CNNDailymail_CSV"
      ],
      "execution_count": 19,
      "outputs": [
        {
          "output_type": "stream",
          "text": [
            "Data_001.csv  Data_003.csv  Data_005.csv  Data_007.csv\tData_009.csv\n",
            "Data_002.csv  Data_004.csv  Data_006.csv  Data_008.csv\tData_010.csv\n"
          ],
          "name": "stdout"
        }
      ]
    },
    {
      "cell_type": "code",
      "metadata": {
        "id": "3eVRGn_CXqr8",
        "colab_type": "code",
        "outputId": "6c61a7ff-53db-4c79-b978-e624b245e04e",
        "colab": {
          "base_uri": "https://localhost:8080/",
          "height": 121
        }
      },
      "source": [
        "\n",
        "import glob\n",
        "import struct\n",
        "import pandas as pd\n",
        "data_path='/content/CNNDailymail_CSV/Data*'\n",
        "filelist = glob.glob(data_path) # get the list of datafiles  \n",
        "\n",
        "li=[]\n",
        "i=0\n",
        "for f in filelist:\n",
        "  if i==5:\n",
        "    break;\n",
        "  print(f)\n",
        "  df = pd.read_csv(f,header=0)\n",
        "  li.append(df)\n",
        "  i=i+1\n",
        "\n",
        "frame = pd.concat(li, axis=0, ignore_index=True)\n",
        "print(frame.shape)"
      ],
      "execution_count": 20,
      "outputs": [
        {
          "output_type": "stream",
          "text": [
            "/content/CNNDailymail_CSV/Data_007.csv\n",
            "/content/CNNDailymail_CSV/Data_008.csv\n",
            "/content/CNNDailymail_CSV/Data_010.csv\n",
            "/content/CNNDailymail_CSV/Data_009.csv\n",
            "/content/CNNDailymail_CSV/Data_002.csv\n",
            "(50000, 2)\n"
          ],
          "name": "stdout"
        }
      ]
    },
    {
      "cell_type": "code",
      "metadata": {
        "id": "ohhcWgx0Q_kk",
        "colab_type": "code",
        "outputId": "faa23c85-4b9b-43e6-9fc5-122c52e069fc",
        "colab": {
          "base_uri": "https://localhost:8080/",
          "height": 171
        }
      },
      "source": [
        "frame.describe()"
      ],
      "execution_count": 21,
      "outputs": [
        {
          "output_type": "execute_result",
          "data": {
            "text/html": [
              "<div>\n",
              "<style scoped>\n",
              "    .dataframe tbody tr th:only-of-type {\n",
              "        vertical-align: middle;\n",
              "    }\n",
              "\n",
              "    .dataframe tbody tr th {\n",
              "        vertical-align: top;\n",
              "    }\n",
              "\n",
              "    .dataframe thead th {\n",
              "        text-align: right;\n",
              "    }\n",
              "</style>\n",
              "<table border=\"1\" class=\"dataframe\">\n",
              "  <thead>\n",
              "    <tr style=\"text-align: right;\">\n",
              "      <th></th>\n",
              "      <th>Article</th>\n",
              "      <th>Summary</th>\n",
              "    </tr>\n",
              "  </thead>\n",
              "  <tbody>\n",
              "    <tr>\n",
              "      <th>count</th>\n",
              "      <td>50000</td>\n",
              "      <td>50000</td>\n",
              "    </tr>\n",
              "    <tr>\n",
              "      <th>unique</th>\n",
              "      <td>39947</td>\n",
              "      <td>39877</td>\n",
              "    </tr>\n",
              "    <tr>\n",
              "      <th>top</th>\n",
              "      <td>By . Beth Stebner and Hayley Peterson . PUBLIS...</td>\n",
              "      <td>Washington Post associate editor Bob Woodward ...</td>\n",
              "    </tr>\n",
              "    <tr>\n",
              "      <th>freq</th>\n",
              "      <td>10000</td>\n",
              "      <td>10000</td>\n",
              "    </tr>\n",
              "  </tbody>\n",
              "</table>\n",
              "</div>"
            ],
            "text/plain": [
              "                                                  Article                                            Summary\n",
              "count                                               50000                                              50000\n",
              "unique                                              39947                                              39877\n",
              "top     By . Beth Stebner and Hayley Peterson . PUBLIS...  Washington Post associate editor Bob Woodward ...\n",
              "freq                                                10000                                              10000"
            ]
          },
          "metadata": {
            "tags": []
          },
          "execution_count": 21
        }
      ]
    },
    {
      "cell_type": "code",
      "metadata": {
        "id": "Kn2oJe-7mNZ3",
        "colab_type": "code",
        "colab": {}
      },
      "source": [
        "frame.drop_duplicates(subset =\"Article\",keep = 'first', inplace = True)\n",
        "frame.dropna(axis=0,inplace=True)\n",
        "frame.drop_duplicates(subset =\"Summary\",keep = 'first', inplace = True)\n",
        "frame.dropna(axis=0,inplace=True)"
      ],
      "execution_count": 0,
      "outputs": []
    },
    {
      "cell_type": "code",
      "metadata": {
        "id": "Y0iIDo6yyoaA",
        "colab_type": "code",
        "outputId": "1b585e9d-6a41-4961-97a3-ff371970c5fa",
        "colab": {
          "base_uri": "https://localhost:8080/",
          "height": 171
        }
      },
      "source": [
        "frame.describe()"
      ],
      "execution_count": 23,
      "outputs": [
        {
          "output_type": "execute_result",
          "data": {
            "text/html": [
              "<div>\n",
              "<style scoped>\n",
              "    .dataframe tbody tr th:only-of-type {\n",
              "        vertical-align: middle;\n",
              "    }\n",
              "\n",
              "    .dataframe tbody tr th {\n",
              "        vertical-align: top;\n",
              "    }\n",
              "\n",
              "    .dataframe thead th {\n",
              "        text-align: right;\n",
              "    }\n",
              "</style>\n",
              "<table border=\"1\" class=\"dataframe\">\n",
              "  <thead>\n",
              "    <tr style=\"text-align: right;\">\n",
              "      <th></th>\n",
              "      <th>Article</th>\n",
              "      <th>Summary</th>\n",
              "    </tr>\n",
              "  </thead>\n",
              "  <tbody>\n",
              "    <tr>\n",
              "      <th>count</th>\n",
              "      <td>39877</td>\n",
              "      <td>39877</td>\n",
              "    </tr>\n",
              "    <tr>\n",
              "      <th>unique</th>\n",
              "      <td>39877</td>\n",
              "      <td>39877</td>\n",
              "    </tr>\n",
              "    <tr>\n",
              "      <th>top</th>\n",
              "      <td>By . Matt Chorley, Mailonline Political Editor...</td>\n",
              "      <td>Shropshire Council spent Ã‚Â£361,800 on 650 iP...</td>\n",
              "    </tr>\n",
              "    <tr>\n",
              "      <th>freq</th>\n",
              "      <td>1</td>\n",
              "      <td>1</td>\n",
              "    </tr>\n",
              "  </tbody>\n",
              "</table>\n",
              "</div>"
            ],
            "text/plain": [
              "                                                  Article                                            Summary\n",
              "count                                               39877                                              39877\n",
              "unique                                              39877                                              39877\n",
              "top     By . Matt Chorley, Mailonline Political Editor...  Shropshire Council spent Ã‚Â£361,800 on 650 iP...\n",
              "freq                                                    1                                                  1"
            ]
          },
          "metadata": {
            "tags": []
          },
          "execution_count": 23
        }
      ]
    },
    {
      "cell_type": "code",
      "metadata": {
        "id": "PzoIsO_uzdki",
        "colab_type": "code",
        "outputId": "6f8e8789-2aaf-4699-c46f-0dcf522f6d89",
        "colab": {
          "base_uri": "https://localhost:8080/",
          "height": 225
        }
      },
      "source": [
        "print(frame.head())\n",
        "def stripcnnsource(str,seq,size):\n",
        "  index=str.find(seq)\n",
        "  if index !=-1 :\n",
        "    return (str[index+size:] )\n",
        "  else:\n",
        "    return str\n",
        "\n",
        "frame['Article']=frame.apply(lambda row: stripcnnsource(row['Article'],'(CNN)',9),axis=1)\n",
        "frame['Article']=frame.apply(lambda row: stripcnnsource(row['Article'],'UPDATED:',13),axis=1)\n",
        "frame['Article']=frame.apply(lambda row: stripcnnsource(row['Article'],'PUBLISHED:',13),axis=1)\n",
        "print(frame.head())"
      ],
      "execution_count": 24,
      "outputs": [
        {
          "output_type": "stream",
          "text": [
            "                                                 Article                                            Summary\n",
            "0      By . Beth Stebner and Hayley Peterson . PUBLIS...  Washington Post associate editor Bob Woodward ...\n",
            "10000  They were comrades in arms who died on the bat...  Two former students of Holland Park School die...\n",
            "10001  Amanda Knox can no longer rely on Raffaele Sol...  Sollecito and Knox reconvicted of Meredith Ker...\n",
            "10002  By . Jessica Jerreat . A Detroit teenager was ...  Five men have been charged over beating that l...\n",
            "10003  Los Angeles (CNN) -- Michael Jackson \"clearly\"...  NEW: Dr. Klein injected 6,500 milligrams of De...\n",
            "                                                 Article                                            Summary\n",
            "0      :45 EST, 28 February 2013 . Long-time Washingt...  Washington Post associate editor Bob Woodward ...\n",
            "10000  They were comrades in arms who died on the bat...  Two former students of Holland Park School die...\n",
            "10001  Amanda Knox can no longer rely on Raffaele Sol...  Sollecito and Knox reconvicted of Meredith Ker...\n",
            "10002  By . Jessica Jerreat . A Detroit teenager was ...  Five men have been charged over beating that l...\n",
            "10003  Michael Jackson \"clearly\" suffered from insomn...  NEW: Dr. Klein injected 6,500 milligrams of De...\n"
          ],
          "name": "stdout"
        }
      ]
    },
    {
      "cell_type": "code",
      "metadata": {
        "id": "DNo73qF4NaUB",
        "colab_type": "code",
        "colab": {}
      },
      "source": [
        "contraction_mapping = {\"ain't\": \"is not\", \"aren't\": \"are not\",\"can't\": \"cannot\", \"'cause\": \"because\", \"could've\": \"could have\", \"couldn't\": \"could not\",\n",
        "                           \"didn't\": \"did not\",  \"doesn't\": \"does not\", \"don't\": \"do not\", \"hadn't\": \"had not\", \"hasn't\": \"has not\", \"haven't\": \"have not\",\n",
        "                           \"he'd\": \"he would\",\"he'll\": \"he will\", \"he's\": \"he is\", \"how'd\": \"how did\", \"how'd'y\": \"how do you\", \"how'll\": \"how will\", \"how's\": \"how is\",\n",
        "                           \"I'd\": \"I would\", \"I'd've\": \"I would have\", \"I'll\": \"I will\", \"I'll've\": \"I will have\",\"I'm\": \"I am\", \"I've\": \"I have\", \"i'd\": \"i would\",\n",
        "                           \"i'd've\": \"i would have\", \"i'll\": \"i will\",  \"i'll've\": \"i will have\",\"i'm\": \"i am\", \"i've\": \"i have\", \"isn't\": \"is not\", \"it'd\": \"it would\",\n",
        "                           \"it'd've\": \"it would have\", \"it'll\": \"it will\", \"it'll've\": \"it will have\",\"it's\": \"it is\", \"let's\": \"let us\", \"ma'am\": \"madam\",\n",
        "                           \"mayn't\": \"may not\", \"might've\": \"might have\",\"mightn't\": \"might not\",\"mightn't've\": \"might not have\", \"must've\": \"must have\",\n",
        "                           \"mustn't\": \"must not\", \"mustn't've\": \"must not have\", \"needn't\": \"need not\", \"needn't've\": \"need not have\",\"o'clock\": \"of the clock\",\n",
        "                           \"oughtn't\": \"ought not\", \"oughtn't've\": \"ought not have\", \"shan't\": \"shall not\", \"sha'n't\": \"shall not\", \"shan't've\": \"shall not have\",\n",
        "                           \"she'd\": \"she would\", \"she'd've\": \"she would have\", \"she'll\": \"she will\", \"she'll've\": \"she will have\", \"she's\": \"she is\",\n",
        "                           \"should've\": \"should have\", \"shouldn't\": \"should not\", \"shouldn't've\": \"should not have\", \"so've\": \"so have\",\"so's\": \"so as\",\n",
        "                           \"this's\": \"this is\",\"that'd\": \"that would\", \"that'd've\": \"that would have\", \"that's\": \"that is\", \"there'd\": \"there would\",\n",
        "                           \"there'd've\": \"there would have\", \"there's\": \"there is\", \"here's\": \"here is\",\"they'd\": \"they would\", \"they'd've\": \"they would have\",\n",
        "                           \"they'll\": \"they will\", \"they'll've\": \"they will have\", \"they're\": \"they are\", \"they've\": \"they have\", \"to've\": \"to have\",\n",
        "                           \"wasn't\": \"was not\", \"we'd\": \"we would\", \"we'd've\": \"we would have\", \"we'll\": \"we will\", \"we'll've\": \"we will have\", \"we're\": \"we are\",\n",
        "                           \"we've\": \"we have\", \"weren't\": \"were not\", \"what'll\": \"what will\", \"what'll've\": \"what will have\", \"what're\": \"what are\",\n",
        "                           \"what's\": \"what is\", \"what've\": \"what have\", \"when's\": \"when is\", \"when've\": \"when have\", \"where'd\": \"where did\", \"where's\": \"where is\",\n",
        "                           \"where've\": \"where have\", \"who'll\": \"who will\", \"who'll've\": \"who will have\", \"who's\": \"who is\", \"who've\": \"who have\",\n",
        "                           \"why's\": \"why is\", \"why've\": \"why have\", \"will've\": \"will have\", \"won't\": \"will not\", \"won't've\": \"will not have\",\n",
        "                           \"would've\": \"would have\", \"wouldn't\": \"would not\", \"wouldn't've\": \"would not have\", \"y'all\": \"you all\",\n",
        "                           \"y'all'd\": \"you all would\",\"y'all'd've\": \"you all would have\",\"y'all're\": \"you all are\",\"y'all've\": \"you all have\",\n",
        "                           \"you'd\": \"you would\", \"you'd've\": \"you would have\", \"you'll\": \"you will\", \"you'll've\": \"you will have\",\n",
        "                           \"you're\": \"you are\", \"you've\": \"you have\"}"
      ],
      "execution_count": 0,
      "outputs": []
    },
    {
      "cell_type": "code",
      "metadata": {
        "id": "wiTZJJixjVN7",
        "colab_type": "code",
        "outputId": "5a540366-adbb-46f3-8e92-290e6abce028",
        "colab": {
          "base_uri": "https://localhost:8080/",
          "height": 35
        }
      },
      "source": [
        "import matplotlib.pyplot as plt\n",
        "\n",
        "contractionCount={}\n",
        "for w in contraction_mapping:\n",
        "  c=sum(frame.Article.str.count(w))\n",
        "  c+=sum(frame.Summary.str.count(w))\n",
        "  contractionCount.update({w:c})\n",
        "print( sum(frame.Article.str.count(next(iter(contraction_mapping)))))\n"
      ],
      "execution_count": 26,
      "outputs": [
        {
          "output_type": "stream",
          "text": [
            "85\n"
          ],
          "name": "stdout"
        }
      ]
    },
    {
      "cell_type": "code",
      "metadata": {
        "id": "Y8j7Kp45INZq",
        "colab_type": "code",
        "outputId": "18364eba-c5a8-4d18-9497-c8aa623f4f16",
        "colab": {
          "base_uri": "https://localhost:8080/",
          "height": 1000
        }
      },
      "source": [
        "contractionCount={x:y for x,y in contractionCount.items() if y!=0}\n",
        "contractionCount"
      ],
      "execution_count": 27,
      "outputs": [
        {
          "output_type": "execute_result",
          "data": {
            "text/plain": [
              "{\"'cause\": 48,\n",
              " \"I'd\": 1522,\n",
              " \"I'll\": 1161,\n",
              " \"I'm\": 10034,\n",
              " \"I've\": 4083,\n",
              " \"ain't\": 87,\n",
              " \"aren't\": 1290,\n",
              " \"can't\": 5153,\n",
              " \"could've\": 74,\n",
              " \"couldn't\": 3144,\n",
              " \"didn't\": 9389,\n",
              " \"doesn't\": 4891,\n",
              " \"don't\": 12522,\n",
              " \"hadn't\": 776,\n",
              " \"hasn't\": 1431,\n",
              " \"haven't\": 1202,\n",
              " \"he'd\": 1396,\n",
              " \"he'll\": 744,\n",
              " \"he's\": 7511,\n",
              " \"here's\": 5510,\n",
              " \"how'd\": 1,\n",
              " \"how's\": 343,\n",
              " \"i'd\": 1,\n",
              " \"i'll\": 3,\n",
              " \"i'm\": 9,\n",
              " \"i've\": 2,\n",
              " \"isn't\": 2761,\n",
              " \"it'd\": 25,\n",
              " \"it'll\": 122,\n",
              " \"it's\": 14580,\n",
              " \"let's\": 477,\n",
              " \"ma'am\": 7,\n",
              " \"might've\": 8,\n",
              " \"must've\": 17,\n",
              " \"mustn't\": 23,\n",
              " \"needn't\": 17,\n",
              " \"o'clock\": 70,\n",
              " \"oughtn't\": 1,\n",
              " \"shan't\": 1,\n",
              " \"she'd\": 431,\n",
              " \"she'll\": 170,\n",
              " \"she's\": 1925,\n",
              " \"should've\": 25,\n",
              " \"shouldn't\": 810,\n",
              " \"so's\": 108,\n",
              " \"that'd\": 7,\n",
              " \"that's\": 4741,\n",
              " \"there'd\": 18,\n",
              " \"there's\": 3154,\n",
              " \"they'd\": 438,\n",
              " \"they'll\": 466,\n",
              " \"they're\": 2796,\n",
              " \"they've\": 916,\n",
              " \"this's\": 1,\n",
              " \"wasn't\": 4279,\n",
              " \"we'd\": 344,\n",
              " \"we'll\": 698,\n",
              " \"we're\": 2749,\n",
              " \"we've\": 1443,\n",
              " \"weren't\": 931,\n",
              " \"what'll\": 3,\n",
              " \"what's\": 1153,\n",
              " \"when's\": 3,\n",
              " \"where'd\": 2,\n",
              " \"where's\": 32,\n",
              " \"who'll\": 22,\n",
              " \"who's\": 632,\n",
              " \"who've\": 162,\n",
              " \"won't\": 2686,\n",
              " \"would've\": 134,\n",
              " \"wouldn't\": 2155,\n",
              " \"y'all\": 53,\n",
              " \"you'd\": 342,\n",
              " \"you'll\": 658,\n",
              " \"you're\": 2860,\n",
              " \"you've\": 808}"
            ]
          },
          "metadata": {
            "tags": []
          },
          "execution_count": 27
        }
      ]
    },
    {
      "cell_type": "code",
      "metadata": {
        "id": "ceKnczI_pvk6",
        "colab_type": "code",
        "outputId": "3865a047-1d99-4c7c-9e5c-890e4aba9683",
        "colab": {
          "base_uri": "https://localhost:8080/",
          "height": 371
        }
      },
      "source": [
        "plt.figure(figsize=(15,5))\n",
        "plt.xticks(rotation='vertical')\n",
        "plt.tick_params(axis='x', which='major', labelsize=9)\n",
        "plt.bar(contractionCount.keys(), contractionCount.values(),width=1)"
      ],
      "execution_count": 28,
      "outputs": [
        {
          "output_type": "execute_result",
          "data": {
            "text/plain": [
              "<BarContainer object of 76 artists>"
            ]
          },
          "metadata": {
            "tags": []
          },
          "execution_count": 28
        },
        {
          "output_type": "display_data",
          "data": {
            "image/png": "[encoded data removed]",
            "text/plain": [
              "<Figure size 1080x360 with 1 Axes>"
            ]
          },
          "metadata": {
            "tags": [],
            "needs_background": "light"
          }
        }
      ]
    },
    {
      "cell_type": "code",
      "metadata": {
        "id": "oExKej_rd5yS",
        "colab_type": "code",
        "colab": {}
      },
      "source": [
        "import re\n",
        "\n",
        "def CleanTEXT(text,seq):\n",
        "    CleanText = text.lower()\n",
        "    #CleanText = re.sub(r'\\([^)]*\\)', '', CleanText)\n",
        "    #CleanText = re.sub('\"','', CleanText)\n",
        "    CleanText = ' '.join([contraction_mapping[t] if t in contraction_mapping else t for t in CleanText.split(\" \")])    \n",
        "    #CleanText = re.sub(r\"'s\\b\",\"\",CleanText)\n",
        "    #CleanText = re.sub(\"[^a-zA-Z]\", \" \", CleanText) \n",
        "    if(seq==0):\n",
        "        tokens = [w for w in CleanText.split() ]\n",
        "    else:\n",
        "        tokens=CleanText.split()\n",
        "\n",
        "    long_words=[]\n",
        "    for i in tokens:\n",
        "        if len(i)>2:                  \n",
        "            long_words.append(i)   \n",
        "    return (\" \".join(long_words)).strip()\n",
        "\n",
        "\n"
      ],
      "execution_count": 0,
      "outputs": []
    },
    {
      "cell_type": "code",
      "metadata": {
        "id": "iJKbIjyQd4xG",
        "colab_type": "code",
        "outputId": "1e4d55f8-f8d9-4bb8-8969-fed0867836c8",
        "colab": {
          "base_uri": "https://localhost:8080/",
          "height": 289
        }
      },
      "source": [
        "frame['Clean_Article']=frame.apply(lambda row: CleanTEXT(row['Article'],0),axis=1)\n",
        "frame['Clean_Summary']=frame.apply(lambda row: CleanTEXT(row['Summary'],1),axis=1)\n",
        "#frame['Clean_Summary']=frame.apply(lambda x : '_START_ '+ x + ' _END_')\n",
        "frame.head()"
      ],
      "execution_count": 30,
      "outputs": [
        {
          "output_type": "execute_result",
          "data": {
            "text/html": [
              "<div>\n",
              "<style scoped>\n",
              "    .dataframe tbody tr th:only-of-type {\n",
              "        vertical-align: middle;\n",
              "    }\n",
              "\n",
              "    .dataframe tbody tr th {\n",
              "        vertical-align: top;\n",
              "    }\n",
              "\n",
              "    .dataframe thead th {\n",
              "        text-align: right;\n",
              "    }\n",
              "</style>\n",
              "<table border=\"1\" class=\"dataframe\">\n",
              "  <thead>\n",
              "    <tr style=\"text-align: right;\">\n",
              "      <th></th>\n",
              "      <th>Article</th>\n",
              "      <th>Summary</th>\n",
              "      <th>Clean_Article</th>\n",
              "      <th>Clean_Summary</th>\n",
              "    </tr>\n",
              "  </thead>\n",
              "  <tbody>\n",
              "    <tr>\n",
              "      <th>0</th>\n",
              "      <td>:45 EST, 28 February 2013 . Long-time Washingt...</td>\n",
              "      <td>Washington Post associate editor Bob Woodward ...</td>\n",
              "      <td>:45 est, february 2013 long-time washington po...</td>\n",
              "      <td>washington post associate editor bob woodward ...</td>\n",
              "    </tr>\n",
              "    <tr>\n",
              "      <th>10000</th>\n",
              "      <td>They were comrades in arms who died on the bat...</td>\n",
              "      <td>Two former students of Holland Park School die...</td>\n",
              "      <td>they were comrades arms who died the battlefie...</td>\n",
              "      <td>two former students holland park school died f...</td>\n",
              "    </tr>\n",
              "    <tr>\n",
              "      <th>10001</th>\n",
              "      <td>Amanda Knox can no longer rely on Raffaele Sol...</td>\n",
              "      <td>Sollecito and Knox reconvicted of Meredith Ker...</td>\n",
              "      <td>amanda knox can longer rely raffaele sollecito...</td>\n",
              "      <td>sollecito and knox reconvicted meredith kerche...</td>\n",
              "    </tr>\n",
              "    <tr>\n",
              "      <th>10002</th>\n",
              "      <td>By . Jessica Jerreat . A Detroit teenager was ...</td>\n",
              "      <td>Five men have been charged over beating that l...</td>\n",
              "      <td>jessica jerreat detroit teenager was charged w...</td>\n",
              "      <td>five men have been charged over beating that l...</td>\n",
              "    </tr>\n",
              "    <tr>\n",
              "      <th>10003</th>\n",
              "      <td>Michael Jackson \"clearly\" suffered from insomn...</td>\n",
              "      <td>NEW: Dr. Klein injected 6,500 milligrams of De...</td>\n",
              "      <td>michael jackson \"clearly\" suffered from insomn...</td>\n",
              "      <td>new: dr. klein injected 6,500 milligrams demer...</td>\n",
              "    </tr>\n",
              "  </tbody>\n",
              "</table>\n",
              "</div>"
            ],
            "text/plain": [
              "                                                 Article  ...                                      Clean_Summary\n",
              "0      :45 EST, 28 February 2013 . Long-time Washingt...  ...  washington post associate editor bob woodward ...\n",
              "10000  They were comrades in arms who died on the bat...  ...  two former students holland park school died f...\n",
              "10001  Amanda Knox can no longer rely on Raffaele Sol...  ...  sollecito and knox reconvicted meredith kerche...\n",
              "10002  By . Jessica Jerreat . A Detroit teenager was ...  ...  five men have been charged over beating that l...\n",
              "10003  Michael Jackson \"clearly\" suffered from insomn...  ...  new: dr. klein injected 6,500 milligrams demer...\n",
              "\n",
              "[5 rows x 4 columns]"
            ]
          },
          "metadata": {
            "tags": []
          },
          "execution_count": 30
        }
      ]
    },
    {
      "cell_type": "code",
      "metadata": {
        "id": "mqKXN5GmmsPs",
        "colab_type": "code",
        "outputId": "7246bd38-daab-44cc-ad58-8d97e8b1614f",
        "colab": {
          "base_uri": "https://localhost:8080/",
          "height": 281
        }
      },
      "source": [
        "article_word_count = []\n",
        "summary_word_count = []\n",
        "\n",
        "# populate the lists with sentence lengths\n",
        "for i in frame['Clean_Article']:\n",
        "      article_word_count.append(len(i.split()))\n",
        "\n",
        "for i in frame['Clean_Summary']:\n",
        "      summary_word_count.append(len(i.split()))\n",
        "\n",
        "length_df = pd.DataFrame({'Article':article_word_count, 'summary':summary_word_count})\n",
        "\n",
        "length_df.hist(bins = 5)\n",
        "\n",
        "plt.show()"
      ],
      "execution_count": 31,
      "outputs": [
        {
          "output_type": "display_data",
          "data": {
            "image/png": "[encoded data removed]",
            "text/plain": [
              "<Figure size 432x288 with 2 Axes>"
            ]
          },
          "metadata": {
            "tags": [],
            "needs_background": "light"
          }
        }
      ]
    },
    {
      "cell_type": "markdown",
      "metadata": {
        "id": "3AntrYiAocYC",
        "colab_type": "text"
      },
      "source": [
        "Max length of Article 500 and max length of summary 50."
      ]
    },
    {
      "cell_type": "code",
      "metadata": {
        "id": "IohYueQFo4rh",
        "colab_type": "code",
        "colab": {}
      },
      "source": [
        "frame['Clean_Summary']=frame['Clean_Summary'].apply(lambda x : 'sostok '+ x + ' eostok')"
      ],
      "execution_count": 0,
      "outputs": []
    },
    {
      "cell_type": "code",
      "metadata": {
        "id": "JC93YObxHS2b",
        "colab_type": "code",
        "outputId": "84ace078-b779-4dc6-9014-82da04f8fcb4",
        "colab": {
          "base_uri": "https://localhost:8080/",
          "height": 55
        }
      },
      "source": [
        "print(frame['Clean_Summary'][0])"
      ],
      "execution_count": 33,
      "outputs": [
        {
          "output_type": "stream",
          "text": [
            "sostok washington post associate editor bob woodward called obama's sequester plan cut defense spending 'madness' said was threatened senior white house official for damaging op-ed piece published over the weekend that would 'regret doing this' white house says that aide did not mean any harm and that woodward likely misinterpreted sequester, series crippling budget cuts, set into effect friday eostok\n"
          ],
          "name": "stdout"
        }
      ]
    },
    {
      "cell_type": "code",
      "metadata": {
        "id": "skBjs9GRpjGu",
        "colab_type": "code",
        "colab": {}
      },
      "source": [
        "import numpy as np\n",
        "from sklearn.model_selection import train_test_split\n",
        "\n",
        "XTrain,XTest,YTrain,YTest=train_test_split(np.array(frame['Clean_Article']),np.array(frame['Clean_Summary']),test_size=0.2,random_state=0,shuffle=True)"
      ],
      "execution_count": 0,
      "outputs": []
    },
    {
      "cell_type": "code",
      "metadata": {
        "id": "and3e6grDbYd",
        "colab_type": "code",
        "outputId": "a86be905-2769-4b91-e7e9-5c0d7e4c7206",
        "colab": {
          "base_uri": "https://localhost:8080/",
          "height": 35
        }
      },
      "source": [
        "print(YTrain[0])"
      ],
      "execution_count": 35,
      "outputs": [
        {
          "output_type": "stream",
          "text": [
            "sostok suarez was banned after biting giorgio chiellini world cup match but who else makes sportsmail's hall shame? eostok\n"
          ],
          "name": "stdout"
        }
      ]
    },
    {
      "cell_type": "code",
      "metadata": {
        "id": "L8m8zasTGBiz",
        "colab_type": "code",
        "outputId": "e108903d-ba0b-4a1c-caed-c251625b3087",
        "colab": {
          "base_uri": "https://localhost:8080/",
          "height": 35
        }
      },
      "source": [
        "from keras.preprocessing.text import Tokenizer \n",
        "from keras.preprocessing.sequence import pad_sequences\n",
        "\n",
        "#prepare a tokenizer for reviews on training data\n",
        "x_tokenizer = Tokenizer() \n",
        "x_tokenizer.fit_on_texts(list(XTrain))\n"
      ],
      "execution_count": 36,
      "outputs": [
        {
          "output_type": "stream",
          "text": [
            "Using TensorFlow backend.\n"
          ],
          "name": "stderr"
        }
      ]
    },
    {
      "cell_type": "code",
      "metadata": {
        "id": "YkurgGZuw9II",
        "colab_type": "code",
        "outputId": "00bf086f-d1a5-4d3e-a3b1-a346af4fdfba",
        "colab": {
          "base_uri": "https://localhost:8080/",
          "height": 35
        }
      },
      "source": [
        "print(len(x_tokenizer.word_counts))"
      ],
      "execution_count": 37,
      "outputs": [
        {
          "output_type": "stream",
          "text": [
            "235455\n"
          ],
          "name": "stdout"
        }
      ]
    },
    {
      "cell_type": "code",
      "metadata": {
        "id": "LLAlu4nIOt_k",
        "colab_type": "code",
        "outputId": "6359d024-b5ba-47c2-b47e-d0f3c8c90c7b",
        "colab": {
          "base_uri": "https://localhost:8080/",
          "height": 52
        }
      },
      "source": [
        "thresh=60\n",
        "cnt=0\n",
        "tot_cnt=0\n",
        "freq=0\n",
        "tot_freq=0\n",
        "\n",
        "for key,value in x_tokenizer.word_counts.items():\n",
        "    tot_cnt=tot_cnt+1\n",
        "    tot_freq=tot_freq+value\n",
        "    if(value<thresh):\n",
        "        cnt=cnt+1\n",
        "        freq=freq+value\n",
        "    \n",
        "print(\"% of rare words in vocabulary:\",(cnt/tot_cnt)*100)\n",
        "print(\"Total Coverage of rare words:\",(freq/tot_freq)*100)"
      ],
      "execution_count": 38,
      "outputs": [
        {
          "output_type": "stream",
          "text": [
            "% of rare words in vocabulary: 92.45333503217175\n",
            "Total Coverage of rare words: 6.6066026038898675\n"
          ],
          "name": "stdout"
        }
      ]
    },
    {
      "cell_type": "code",
      "metadata": {
        "id": "tzrCgytrwf-_",
        "colab_type": "code",
        "outputId": "407471e7-aab3-469a-87d5-8740e1f357db",
        "colab": {
          "base_uri": "https://localhost:8080/",
          "height": 35
        }
      },
      "source": [
        "x_tokenizer=Tokenizer(num_words=tot_cnt-cnt)\n",
        "x_tokenizer.fit_on_texts(list(XTrain))\n",
        "print(x_tokenizer.num_words)"
      ],
      "execution_count": 39,
      "outputs": [
        {
          "output_type": "stream",
          "text": [
            "17769\n"
          ],
          "name": "stdout"
        }
      ]
    },
    {
      "cell_type": "code",
      "metadata": {
        "id": "VnkzNdIWmN5S",
        "colab_type": "code",
        "outputId": "96906d4a-92b2-4c61-e0ac-7b4b734c391a",
        "colab": {
          "base_uri": "https://localhost:8080/",
          "height": 35
        }
      },
      "source": [
        "\n",
        "\n",
        "XTrain_seq= x_tokenizer.texts_to_sequences(XTrain)\n",
        "XTest_seq=x_tokenizer.texts_to_sequences(XTest)\n",
        "\n",
        "#padding zero to make the length equal\n",
        "XTrain=pad_sequences(XTrain_seq,maxlen=500,padding='post')\n",
        "XTest=pad_sequences(XTest_seq,maxlen=500,padding='post')\n",
        "\n",
        "x_voc=x_tokenizer.num_words+1\n",
        "print(x_voc)"
      ],
      "execution_count": 40,
      "outputs": [
        {
          "output_type": "stream",
          "text": [
            "17770\n"
          ],
          "name": "stdout"
        }
      ]
    },
    {
      "cell_type": "code",
      "metadata": {
        "id": "iERhIAzFZJBn",
        "colab_type": "code",
        "colab": {}
      },
      "source": [
        "#prepare a tokenizer for reviews on training data\n",
        "y_tokenizer = Tokenizer()   \n",
        "y_tokenizer.fit_on_texts(list(YTrain))"
      ],
      "execution_count": 0,
      "outputs": []
    },
    {
      "cell_type": "code",
      "metadata": {
        "id": "BcENF2ZphcUz",
        "colab_type": "code",
        "outputId": "4f9350c3-f5eb-4e1d-8205-7195d4eaa2b2",
        "colab": {
          "base_uri": "https://localhost:8080/",
          "height": 52
        }
      },
      "source": [
        "thresh=10\n",
        "\n",
        "cnt=0\n",
        "tot_cnt=0\n",
        "freq=0\n",
        "tot_freq=0\n",
        "\n",
        "for key,value in y_tokenizer.word_counts.items():\n",
        "    tot_cnt=tot_cnt+1\n",
        "    tot_freq=tot_freq+value\n",
        "    if(value<thresh):\n",
        "        cnt=cnt+1\n",
        "        freq=freq+value\n",
        "    \n",
        "print(\"% of rare words in vocabulary:\",(cnt/tot_cnt)*100)\n",
        "print(\"Total Coverage of rare words:\",(freq/tot_freq)*100)"
      ],
      "execution_count": 42,
      "outputs": [
        {
          "output_type": "stream",
          "text": [
            "% of rare words in vocabulary: 83.78157108354824\n",
            "Total Coverage of rare words: 9.722736050854861\n"
          ],
          "name": "stdout"
        }
      ]
    },
    {
      "cell_type": "code",
      "metadata": {
        "id": "ozVzWjeD1jv6",
        "colab_type": "code",
        "colab": {}
      },
      "source": [
        "y_tokenizer=Tokenizer(num_words=tot_cnt-cnt)\n",
        "y_tokenizer.fit_on_texts(list(YTrain))"
      ],
      "execution_count": 0,
      "outputs": []
    },
    {
      "cell_type": "code",
      "metadata": {
        "id": "--ey1Dav16f9",
        "colab_type": "code",
        "colab": {}
      },
      "source": [
        "YTrain_seq= y_tokenizer.texts_to_sequences(YTrain)\n",
        "YTest_seq=y_tokenizer.texts_to_sequences(YTest)\n",
        "\n",
        "YTrain=pad_sequences(YTrain_seq,maxlen=50,padding='post')\n",
        "YTest=pad_sequences(YTest_seq,maxlen=50,padding='post')\n",
        "\n",
        "y_voc=y_tokenizer.num_words+1"
      ],
      "execution_count": 0,
      "outputs": []
    },
    {
      "cell_type": "code",
      "metadata": {
        "id": "d0x5u5NH590k",
        "colab_type": "code",
        "outputId": "123e4cf1-8893-4312-d2b4-1ad5b748ae1d",
        "colab": {
          "base_uri": "https://localhost:8080/",
          "height": 69
        }
      },
      "source": [
        "print(y_voc)\n",
        "print( len(y_tokenizer.word_counts) +1)\n",
        "print(XTrain.shape)"
      ],
      "execution_count": 45,
      "outputs": [
        {
          "output_type": "stream",
          "text": [
            "11887\n",
            "73288\n",
            "(31901, 500)\n"
          ],
          "name": "stdout"
        }
      ]
    },
    {
      "cell_type": "code",
      "metadata": {
        "id": "lDZ6xL-5LjK5",
        "colab_type": "code",
        "colab": {}
      },
      "source": [
        "ind=[]\n",
        "for i in range(len(YTrain)):\n",
        "    cnt=0\n",
        "    for j in YTrain[i]:\n",
        "        if j!=0:\n",
        "            cnt=cnt+1\n",
        "    if(cnt==2):\n",
        "        ind.append(i)\n",
        "\n",
        "YTrain=np.delete(YTrain,ind, axis=0)\n",
        "XTrain=np.delete(XTrain,ind, axis=0)"
      ],
      "execution_count": 0,
      "outputs": []
    },
    {
      "cell_type": "code",
      "metadata": {
        "id": "ps0kmHjYLipw",
        "colab_type": "code",
        "colab": {}
      },
      "source": [
        "ind=[]\n",
        "for i in range(len(YTest)):\n",
        "    cnt=0\n",
        "    for j in YTest[i]:\n",
        "        if j!=0:\n",
        "            cnt=cnt+1\n",
        "    if(cnt==2):\n",
        "        ind.append(i)\n",
        "\n",
        "YTest=np.delete(YTest,ind, axis=0)\n",
        "XTest=np.delete(XTest,ind, axis=0)"
      ],
      "execution_count": 0,
      "outputs": []
    },
    {
      "cell_type": "markdown",
      "metadata": {
        "id": "RJSkhbnaXxW6",
        "colab_type": "text"
      },
      "source": [
        "#Attention Layer Implementation"
      ]
    },
    {
      "cell_type": "code",
      "metadata": {
        "id": "WyK5-YbgEJ6W",
        "colab_type": "code",
        "colab": {}
      },
      "source": [
        "import tensorflow as tf\n",
        "import os\n",
        "from tensorflow.python.keras.layers import Layer\n",
        "from tensorflow.python.keras import backend as K\n",
        "\n",
        "class Attention(Layer):\n",
        "  #define the four main function\n",
        "  def __init__(self,**kwargs):\n",
        "    super(Attention,self).__init__(**kwargs)\n",
        "\n",
        "  def build(self,input_shape):\n",
        "    assert isinstance(input_shape,list)\n",
        "    #define the weight matrices \n",
        "    self.W_a = self.add_weight(name='W_a',shape=tf.TensorShape((input_shape[0][2], input_shape[0][2])),initializer='uniform',trainable=True)\n",
        "    self.U_a = self.add_weight(name='U_a',shape=tf.TensorShape((input_shape[1][2], input_shape[0][2])),initializer='uniform',trainable=True)\n",
        "    self.V_a = self.add_weight(name='V_a',shape=tf.TensorShape((input_shape[0][2], 1)),initializer='uniform',trainable=True)\n",
        "\n",
        "    super(Attention, self).build(input_shape)\n",
        "\n",
        "  def call(self,inputs):\n",
        "    assert type(inputs)==list\n",
        "    encoder_out_seq, decoder_out_seq = inputs\n",
        "\n",
        "    def energyfun(inputs,states):\n",
        "      en_seq_len,en_hidden=encoder_out_seq.shape[1],encoder_out_seq.shape[2]\n",
        "      de_hidden=inputs.shape[-1]\n",
        "\n",
        "      reshaped_enc_outputs=K.reshape(encoder_out_seq,(-1,en_hidden))\n",
        "      #S.wa\n",
        "      Wa_dotproduct_s=K.reshape(K.dot(reshaped_enc_outputs,self.W_a),(-1,en_seq_len,en_hidden))\n",
        "      #hj.Ua\n",
        "      Ua_dotproduct_hj=K.expand_dims(K.dot(inputs,self.U_a),1)\n",
        "      #tanh(S.Wa+hj.Ua)\n",
        "      reshaped_tanfunc=K.tanh(K.reshape(Wa_dotproduct_s+Ua_dotproduct_hj,(-1,en_hidden)))\n",
        "      #Softmax function\n",
        "      e_i=K.reshape(K.dot(reshaped_tanfunc,self.V_a),(-1,en_seq_len))\n",
        "      e_i=K.softmax(e_i)\n",
        "\n",
        "      return e_i,[e_i]\n",
        "\n",
        "    def context_step(inputs,states):\n",
        "      c_i=K.sum(encoder_out_seq*K.expand_dims(inputs,-1),axis=1)\n",
        "      return c_i,[c_i]\n",
        "\n",
        "    def initial_state(inputs,hidden_size):\n",
        "      fake_state=K.zeros_like(inputs)\n",
        "      fake_state=K.sum(fake_state,axis=[1,2])\n",
        "      fake_state=K.expand_dims(fake_state)\n",
        "      fake_state=K.tile(fake_state,[1,hidden_size])\n",
        "      return fake_state\n",
        "    \n",
        "    fake_state_c=initial_state(encoder_out_seq,encoder_out_seq.shape[-1])\n",
        "    fake_state_e=initial_state(encoder_out_seq,encoder_out_seq.shape[1])\n",
        "    #energy outputs\n",
        "    last_out,e_outputs,_=K.rnn(energyfun,decoder_out_seq,[fake_state_e],)\n",
        "    #context vectors\n",
        "    last_out,c_outputs,_=K.rnn(context_step,e_outputs,[fake_state_c],)\n",
        "    \n",
        "    return c_outputs,e_outputs\n",
        "\n",
        "  def compute_output_shape(self,input_shape):\n",
        "    return [tf.TensorShape((input_shape[1][0],input_shape[1][1],input_shape[1][2])),tf.TensorShape((input_shape[1][0],input_shape[1][1],input_shape[0][1]))]\n",
        "\n"
      ],
      "execution_count": 0,
      "outputs": []
    },
    {
      "cell_type": "markdown",
      "metadata": {
        "id": "k_Fa_OSdNiY6",
        "colab_type": "text"
      },
      "source": [
        "#Model: Stacked LSTM"
      ]
    },
    {
      "cell_type": "code",
      "metadata": {
        "id": "cEi-z7KDNckZ",
        "colab_type": "code",
        "outputId": "adabbd55-0c5c-4405-d5d6-47ff79f52af2",
        "colab": {
          "base_uri": "https://localhost:8080/",
          "height": 713
        }
      },
      "source": [
        "from tensorflow.keras import backend as K\n",
        "from tensorflow.keras.layers import Input, LSTM, Embedding, Dense, Concatenate, TimeDistributed, Bidirectional\n",
        "from tensorflow.keras.models import Model,Sequential\n",
        "from tensorflow.keras.callbacks import EarlyStopping\n",
        "\n",
        "import warnings\n",
        "pd.set_option(\"display.max_colwidth\", 200)\n",
        "warnings.filterwarnings(\"ignore\")\n",
        "\n",
        "print(\"Size of vocabulary = {}\".format(x_voc))\n",
        "\n",
        "K.clear_session()\n",
        "\n",
        "latent_dim=50\n",
        "embedding_dim=30\n",
        "max_article_len=500\n",
        "#Encoder\n",
        "encoder_inputs=Input(shape=(max_article_len,))\n",
        "#keras encoding embedding layer\n",
        "enc_emb=Embedding(x_voc,embedding_dim,trainable=True)(encoder_inputs)\n",
        "\n",
        "#layer1\n",
        "encoder_lstm1=LSTM(latent_dim,return_sequences=True,return_state=True,dropout=0.4,recurrent_dropout=0.4)\n",
        "encoder_output1,state_h1,state_c1=encoder_lstm1(enc_emb)\n",
        "\n",
        "#layer 2\n",
        "encoder_lstm2 = LSTM(latent_dim,return_sequences=True,return_state=True,dropout=0.4,recurrent_dropout=0.4)\n",
        "encoder_output2, state_h2, state_c2 = encoder_lstm2(encoder_output1)\n",
        "\n",
        "#layer 3\n",
        "encoder_lstm3 = LSTM(latent_dim,return_sequences=True,return_state=True,dropout=0.4,recurrent_dropout=0.4)\n",
        "encoder_outputs, state_h, state_c = encoder_lstm3(encoder_output2)\n",
        "\n",
        "#Decoder will use the encoder_states as intial sstate\n",
        "decoder_inputs=Input(shape=(None,))\n",
        "\n",
        "#Decoder Embedding layer\n",
        "dec_emb_layer=Embedding(y_voc,embedding_dim,trainable=True)\n",
        "dec_emb=dec_emb_layer(decoder_inputs)\n",
        "\n",
        "decoder_lstm=LSTM(latent_dim,return_sequences=True,return_state=True,dropout=0.4,recurrent_dropout=0.2)\n",
        "decoder_outputs,decoder_fwd_state,decoder_back_state=decoder_lstm(dec_emb,initial_state=[state_h,state_c])\n",
        "\n",
        "#Attention Layer\n",
        "attn_layer=Attention(name='attention_layer')\n",
        "attn_out,attn_state=attn_layer([encoder_outputs,decoder_outputs])\n",
        "\n",
        "decoder_concat_input = Concatenate(axis=-1, name='concat_layer')([decoder_outputs, attn_out])\n",
        "\n",
        "#dense layer\n",
        "decoder_dense =  TimeDistributed(Dense(y_voc, activation='softmax'))\n",
        "decoder_outputs = decoder_dense(decoder_concat_input)\n",
        "\n",
        "# Define the model \n",
        "model = Model([encoder_inputs, decoder_inputs], decoder_outputs)\n",
        "model.summary()\n"
      ],
      "execution_count": 49,
      "outputs": [
        {
          "output_type": "stream",
          "text": [
            "Size of vocabulary = 17770\n",
            "WARNING:tensorflow:Layer lstm will not use cuDNN kernel since it doesn't meet the cuDNN kernel criteria. It will use generic GPU kernel as fallback when running on GPU\n",
            "WARNING:tensorflow:Layer lstm_1 will not use cuDNN kernel since it doesn't meet the cuDNN kernel criteria. It will use generic GPU kernel as fallback when running on GPU\n",
            "WARNING:tensorflow:Layer lstm_2 will not use cuDNN kernel since it doesn't meet the cuDNN kernel criteria. It will use generic GPU kernel as fallback when running on GPU\n",
            "WARNING:tensorflow:Layer lstm_3 will not use cuDNN kernel since it doesn't meet the cuDNN kernel criteria. It will use generic GPU kernel as fallback when running on GPU\n",
            "Model: \"model\"\n",
            "__________________________________________________________________________________________________\n",
            "Layer (type)                    Output Shape         Param #     Connected to                     \n",
            "==================================================================================================\n",
            "input_1 (InputLayer)            [(None, 500)]        0                                            \n",
            "__________________________________________________________________________________________________\n",
            "embedding (Embedding)           (None, 500, 30)      533100      input_1[0][0]                    \n",
            "__________________________________________________________________________________________________\n",
            "lstm (LSTM)                     [(None, 500, 50), (N 16200       embedding[0][0]                  \n",
            "__________________________________________________________________________________________________\n",
            "input_2 (InputLayer)            [(None, None)]       0                                            \n",
            "__________________________________________________________________________________________________\n",
            "lstm_1 (LSTM)                   [(None, 500, 50), (N 20200       lstm[0][0]                       \n",
            "__________________________________________________________________________________________________\n",
            "embedding_1 (Embedding)         (None, None, 30)     356610      input_2[0][0]                    \n",
            "__________________________________________________________________________________________________\n",
            "lstm_2 (LSTM)                   [(None, 500, 50), (N 20200       lstm_1[0][0]                     \n",
            "__________________________________________________________________________________________________\n",
            "lstm_3 (LSTM)                   [(None, None, 50), ( 16200       embedding_1[0][0]                \n",
            "                                                                 lstm_2[0][1]                     \n",
            "                                                                 lstm_2[0][2]                     \n",
            "__________________________________________________________________________________________________\n",
            "attention_layer (Attention)     ((None, None, 50), ( 5050        lstm_2[0][0]                     \n",
            "                                                                 lstm_3[0][0]                     \n",
            "__________________________________________________________________________________________________\n",
            "concat_layer (Concatenate)      (None, None, 100)    0           lstm_3[0][0]                     \n",
            "                                                                 attention_layer[0][0]            \n",
            "__________________________________________________________________________________________________\n",
            "time_distributed (TimeDistribut (None, None, 11887)  1200587     concat_layer[0][0]               \n",
            "==================================================================================================\n",
            "Total params: 2,168,147\n",
            "Trainable params: 2,168,147\n",
            "Non-trainable params: 0\n",
            "__________________________________________________________________________________________________\n"
          ],
          "name": "stdout"
        }
      ]
    },
    {
      "cell_type": "code",
      "metadata": {
        "id": "YKRTEMhwlQbk",
        "colab_type": "code",
        "colab": {}
      },
      "source": [
        "model.compile(optimizer='rmsprop', loss='sparse_categorical_crossentropy')"
      ],
      "execution_count": 0,
      "outputs": []
    },
    {
      "cell_type": "code",
      "metadata": {
        "id": "bhrYtIbAlfs9",
        "colab_type": "code",
        "colab": {}
      },
      "source": [
        "es = EarlyStopping(monitor='val_loss', mode='min', verbose=1,patience=2)"
      ],
      "execution_count": 0,
      "outputs": []
    },
    {
      "cell_type": "code",
      "metadata": {
        "id": "8Ag-5BFCdjpX",
        "colab_type": "code",
        "outputId": "2d8b1a11-19a1-409b-f14e-946fb902f1c0",
        "colab": {
          "base_uri": "https://localhost:8080/",
          "height": 124
        }
      },
      "source": [
        "from google.colab import drive\n",
        "drive.mount('/content/gdrive')"
      ],
      "execution_count": 52,
      "outputs": [
        {
          "output_type": "stream",
          "text": [
            "Go to this URL in a browser: https://accounts.google.com/o/oauth2/auth?client_id=947318989803-6bn6qk8qdgf4n4g3pfee6491hc0brc4i.apps.googleusercontent.com&redirect_uri=urn%3aietf%3awg%3aoauth%3a2.0%3aoob&response_type=code&scope=email%20https%3a%2f%2fwww.googleapis.com%2fauth%2fdocs.test%20https%3a%2f%2fwww.googleapis.com%2fauth%2fdrive%20https%3a%2f%2fwww.googleapis.com%2fauth%2fdrive.photos.readonly%20https%3a%2f%2fwww.googleapis.com%2fauth%2fpeopleapi.readonly\n",
            "\n",
            "Enter your authorization code:\n",
            "··········\n",
            "Mounted at /content/gdrive\n"
          ],
          "name": "stdout"
        }
      ]
    },
    {
      "cell_type": "code",
      "metadata": {
        "id": "DGWc1u-Zc0UN",
        "colab_type": "code",
        "colab": {}
      },
      "source": [
        "checkpoint_path = F\"/content/gdrive/My Drive/training_1/cp.ckpt\"\n",
        "\n",
        "# Create a callback that saves the model's weights\n",
        "cp_callback = tf.keras.callbacks.ModelCheckpoint(filepath=checkpoint_path,save_weights_only=False,save_best_only=True,verbose=1)"
      ],
      "execution_count": 0,
      "outputs": []
    },
    {
      "cell_type": "code",
      "metadata": {
        "id": "sbnk0kRngKfr",
        "colab_type": "code",
        "colab": {}
      },
      "source": [
        "import pickle\n",
        "xpath=F\"/content/gdrive/My Drive/x_tokenizer3.pickle\"\n",
        "ypath=F\"/content/gdrive/My Drive/y_tokenizer3.pickle\"\n",
        "with open(xpath, 'wb') as handle:\n",
        "    pickle.dump(x_tokenizer, handle, protocol=pickle.HIGHEST_PROTOCOL)\n",
        "with open(ypath, 'wb') as handle:\n",
        "    pickle.dump(x_tokenizer, handle, protocol=pickle.HIGHEST_PROTOCOL)"
      ],
      "execution_count": 0,
      "outputs": []
    },
    {
      "cell_type": "code",
      "metadata": {
        "id": "XGaWrktdHWcC",
        "colab_type": "code",
        "outputId": "1ef75f62-2b2d-4a02-8426-86920a857e74",
        "colab": {
          "base_uri": "https://localhost:8080/",
          "height": 364
        }
      },
      "source": [
        "history=model.fit([XTrain,YTrain[:,:-1]],YTrain.reshape(YTrain.shape[0],YTrain.shape[1], 1)[:,1:] ,epochs=10,callbacks=[es],batch_size=128, validation_data=([XTest,YTest[:,:-1]], YTest.reshape(YTest.shape[0],YTest.shape[1], 1)[:,1:]))"
      ],
      "execution_count": 55,
      "outputs": [
        {
          "output_type": "stream",
          "text": [
            "Epoch 1/10\n",
            "250/250 [==============================] - 1667s 7s/step - loss: 5.9158 - val_loss: 5.4382\n",
            "Epoch 2/10\n",
            "250/250 [==============================] - 1656s 7s/step - loss: 5.4640 - val_loss: 5.3427\n",
            "Epoch 3/10\n",
            "250/250 [==============================] - 1661s 7s/step - loss: 5.3501 - val_loss: 5.2668\n",
            "Epoch 4/10\n",
            "250/250 [==============================] - 1655s 7s/step - loss: 5.2902 - val_loss: 5.2230\n",
            "Epoch 5/10\n",
            "250/250 [==============================] - 1654s 7s/step - loss: 5.2156 - val_loss: 5.1171\n",
            "Epoch 6/10\n",
            "250/250 [==============================] - 1652s 7s/step - loss: 5.1282 - val_loss: 5.0470\n",
            "Epoch 7/10\n",
            "250/250 [==============================] - 1642s 7s/step - loss: 5.0520 - val_loss: 4.9767\n",
            "Epoch 8/10\n",
            "250/250 [==============================] - 1656s 7s/step - loss: 4.9870 - val_loss: 4.9279\n",
            "Epoch 9/10\n",
            "250/250 [==============================] - 1654s 7s/step - loss: 4.9283 - val_loss: 4.8800\n",
            "Epoch 10/10\n",
            "250/250 [==============================] - 1659s 7s/step - loss: 4.8797 - val_loss: 4.8446\n"
          ],
          "name": "stdout"
        }
      ]
    },
    {
      "cell_type": "code",
      "metadata": {
        "id": "WU4cUgiAD-Um",
        "colab_type": "code",
        "colab": {}
      },
      "source": [
        "#!pip install h5py"
      ],
      "execution_count": 0,
      "outputs": []
    },
    {
      "cell_type": "code",
      "metadata": {
        "id": "f1_2XfzIzJYi",
        "colab_type": "code",
        "colab": {}
      },
      "source": [
        ""
      ],
      "execution_count": 0,
      "outputs": []
    },
    {
      "cell_type": "code",
      "metadata": {
        "id": "c9kEB9N3mmId",
        "colab_type": "code",
        "colab": {}
      },
      "source": [
        ""
      ],
      "execution_count": 0,
      "outputs": []
    },
    {
      "cell_type": "code",
      "metadata": {
        "id": "EZCNISHrmwS3",
        "colab_type": "code",
        "colab": {}
      },
      "source": [
        "model_save_name = 'LSTMmodel3modelarchitecture.h5'\n",
        "path = F\"/content/gdrive/My Drive/{model_save_name}\" \n",
        "model.save(path)"
      ],
      "execution_count": 0,
      "outputs": []
    },
    {
      "cell_type": "code",
      "metadata": {
        "id": "l86_EkMwb3SP",
        "colab_type": "code",
        "colab": {}
      },
      "source": [
        "import json\n",
        "history_dict = history.history\n",
        "historypath = F\"/content/gdrive/My Drive/history3\" \n",
        "json.dump(history_dict, open(historypath, 'w'))"
      ],
      "execution_count": 0,
      "outputs": []
    },
    {
      "cell_type": "code",
      "metadata": {
        "id": "xO2rMlPW0M4z",
        "colab_type": "code",
        "outputId": "dc4fbb7d-2aab-4907-b408-61c9e1f89f54",
        "colab": {
          "base_uri": "https://localhost:8080/",
          "height": 265
        }
      },
      "source": [
        "plt.plot(history.history['loss'], label='train')\n",
        "plt.plot(history.history['val_loss'], label='test')\n",
        "plt.legend()\n",
        "plt.show()"
      ],
      "execution_count": 71,
      "outputs": [
        {
          "output_type": "display_data",
          "data": {
            "image/png": "[encoded data removed]",
            "text/plain": [
              "<Figure size 432x288 with 1 Axes>"
            ]
          },
          "metadata": {
            "tags": [],
            "needs_background": "light"
          }
        }
      ]
    },
    {
      "cell_type": "code",
      "metadata": {
        "id": "JjvyFd05GuFu",
        "colab_type": "code",
        "outputId": "85a371b6-0dd8-4cb4-8376-8504518dcb77",
        "colab": {
          "base_uri": "https://localhost:8080/",
          "height": 35
        }
      },
      "source": [
        "YTrain.shape[0],YTrain.shape[1], 1"
      ],
      "execution_count": 72,
      "outputs": [
        {
          "output_type": "execute_result",
          "data": {
            "text/plain": [
              "(31901, 50, 1)"
            ]
          },
          "metadata": {
            "tags": []
          },
          "execution_count": 72
        }
      ]
    },
    {
      "cell_type": "code",
      "metadata": {
        "id": "BfiHWmYUNU6k",
        "colab_type": "code",
        "colab": {}
      },
      "source": [
        "reverse_target_word_index=y_tokenizer.index_word\n",
        "reverse_source_word_index=x_tokenizer.index_word\n",
        "target_word_index=y_tokenizer.word_index"
      ],
      "execution_count": 0,
      "outputs": []
    },
    {
      "cell_type": "code",
      "metadata": {
        "id": "13Kn5pKTT47o",
        "colab_type": "code",
        "colab": {}
      },
      "source": [
        "encoder_model = Model(inputs=encoder_inputs,outputs=[encoder_outputs, state_h, state_c])"
      ],
      "execution_count": 0,
      "outputs": []
    },
    {
      "cell_type": "code",
      "metadata": {
        "id": "slMPlh0CXXwL",
        "colab_type": "code",
        "colab": {}
      },
      "source": [
        "decoder_state_input_h = Input(shape=(latent_dim,))\n",
        "decoder_state_input_c = Input(shape=(latent_dim,))\n",
        "decoder_hidden_state_input = Input(shape=(max_article_len,latent_dim))"
      ],
      "execution_count": 0,
      "outputs": []
    },
    {
      "cell_type": "code",
      "metadata": {
        "id": "MmLjxncGp8nJ",
        "colab_type": "code",
        "colab": {}
      },
      "source": [
        "dec_emb2= dec_emb_layer(decoder_inputs) \n",
        "# To predict the next word in the sequence, set the initial states to the states from the previous time step\n",
        "decoder_outputs2, state_h2, state_c2 = decoder_lstm(dec_emb2, initial_state=[decoder_state_input_h, decoder_state_input_c])\n",
        "\n",
        "#attention inference\n",
        "attn_out_inf, attn_states_inf = attn_layer([decoder_hidden_state_input, decoder_outputs2])\n",
        "decoder_inf_concat = Concatenate(axis=-1, name='concat')([decoder_outputs2, attn_out_inf])\n",
        "\n",
        "# A dense softmax layer to generate prob dist. over the target vocabulary\n",
        "decoder_outputs2 = decoder_dense(decoder_inf_concat) \n",
        "\n",
        "# Final decoder model\n",
        "decoder_model = Model(\n",
        "    [decoder_inputs] + [decoder_hidden_state_input,decoder_state_input_h, decoder_state_input_c],\n",
        "    [decoder_outputs2] + [state_h2, state_c2])"
      ],
      "execution_count": 0,
      "outputs": []
    },
    {
      "cell_type": "code",
      "metadata": {
        "id": "mKtw2IBfh1JI",
        "colab_type": "code",
        "colab": {}
      },
      "source": [
        "max_summary_len=50"
      ],
      "execution_count": 0,
      "outputs": []
    },
    {
      "cell_type": "code",
      "metadata": {
        "id": "b1an8vLcsxvL",
        "colab_type": "code",
        "colab": {}
      },
      "source": [
        "def decode_sequence(input_seq):\n",
        "    # Encode the input as state vectors.\n",
        "    e_out, e_h, e_c = encoder_model.predict(input_seq)\n",
        "    \n",
        "    # Generate empty target sequence of length 1.\n",
        "    target_seq = np.zeros((1,1))\n",
        "    \n",
        "    # Populate the first word of target sequence with the start word.\n",
        "    target_seq[0, 0] = target_word_index['sostok']\n",
        "\n",
        "    stop_condition = False\n",
        "    decoded_sentence = ''\n",
        "    while not stop_condition:\n",
        "      \n",
        "        output_tokens, h, c = decoder_model.predict([target_seq] + [e_out, e_h, e_c])\n",
        "\n",
        "        # Sample a token\n",
        "        sampled_token_index = np.argmax(output_tokens[0, -1, :])\n",
        "        sampled_token = reverse_target_word_index[sampled_token_index]\n",
        "        \n",
        "        if(sampled_token!='eostok'):\n",
        "            decoded_sentence += ' '+sampled_token\n",
        "\n",
        "        # Exit condition: either hit max length or find stop word.\n",
        "        if (sampled_token == 'eostok'  or len(decoded_sentence.split()) >= (max_summary_len-1)):\n",
        "            stop_condition = True\n",
        "\n",
        "        # Update the target sequence (of length 1).\n",
        "        target_seq = np.zeros((1,1))\n",
        "        target_seq[0, 0] = sampled_token_index\n",
        "\n",
        "        # Update internal states\n",
        "        e_h, e_c = h, c\n",
        "\n",
        "    return decoded_sentence"
      ],
      "execution_count": 0,
      "outputs": []
    },
    {
      "cell_type": "code",
      "metadata": {
        "id": "KwsaglKU_1XJ",
        "colab_type": "code",
        "colab": {}
      },
      "source": [
        "def seq2summary(input_seq):\n",
        "    newString=''\n",
        "    for i in input_seq:\n",
        "        if((i!=0 and i!=target_word_index['sostok']) and i!=target_word_index['eostok']):\n",
        "            newString=newString+reverse_target_word_index[i]+' '\n",
        "    return newString\n",
        "\n",
        "def seq2text(input_seq):\n",
        "    newString=''\n",
        "    for i in input_seq:\n",
        "        if(i!=0):\n",
        "            newString=newString+reverse_source_word_index[i]+' '\n",
        "    return newString"
      ],
      "execution_count": 0,
      "outputs": []
    },
    {
      "cell_type": "code",
      "metadata": {
        "id": "M7ExuQ5n_3TQ",
        "colab_type": "code",
        "colab": {
          "base_uri": "https://localhost:8080/",
          "height": 904
        },
        "outputId": "ece4d497-3704-433e-dfea-cf91d092b55f"
      },
      "source": [
        "for i in range(0,10):\n",
        "    print(\"Review:\",seq2text(XTrain[i]))\n",
        "    print(\"Original summary:\",seq2summary(YTrain[i]))\n",
        "    print(\"Predicted summary:\",decode_sequence(XTrain[i].reshape(1,max_article_len)))\n",
        "    print(\"\\n\")"
      ],
      "execution_count": 80,
      "outputs": [
        {
          "output_type": "stream",
          "text": [
            "Review: 2000 was found guilty with asian during tour india died light plane crash three years later still banned still denial captain shock south africa's was found guilty match fixing 2000 died three years later lance armstrong after years denials the cyclist finally confessed that those record breaking tour france triumphs were fuelled steroids also betrayed the millions devoted fans who admired him for the phenomenal that had raised him from cancer record but lance armstrong admitted all those tour france titles were fuelled steroids the truth armstrong sat down with emma o'reilly and sportsmail's matt lawton for exclusive interview last year luis suarez serial whose latest sinking the was into giorgio chiellini brazil more than enough said new entry luis suarez definite this list after bit giorgio chiellini the world cup match last month painful suarez was banned for four months and nine international games has only just apologised antonio had plaster paris taped onto his for world title fight 2009 turning his fists into like weapons could have killed sugar shane and his ban took into account suspicions that had happened before like weapons antonio right had plaster paris taped round his during his fight against shane 2009 schumacher the worst all assaults saw keeper out his area the 1982 world cup semi final and his body patrick the frenchman was through goal was feared dead but responded oxygen and was taken hospital coma with shattered and broken teeth sickening schumacher ploughed into patrick during the world cup semi final 1982 sorry sight the french defender was feared dead foul card was given the west germany keeper mike tyson most biting incident years ago last weekend iron mike off ear world heavyweight title fight las vegas ã¢â€â” confirming his image the man the planet take that luis suarez mike tyson bit chunk off ear during world heavyweight title fight harding such are the pressures adolescent ice that this sweet little from portland oregon grew desperate win the 1994 figure skating championships and thereby qualify for that yearã¢â€â™s winter olympics that she and her ex husband commissioned iron bar knee her main rival nancy bitter rival harding was desperate win the figure skating championships 1994 that she commissioned attack main rival nancy seen suffering below bitter rival harding was desperate win the figure skating championships 1994 that she commissioned attack main rival nancy seen suffering below simpson the iconic all american hero and became idol around the world was acquitted the murder his former wife and her male friend but civil court found him guilty ofã‚â their wrongful deaths simpson serving time prison after being found guilty armed robbery and kidnapping 2008 does not get any worse than this simpson was acquitted charges that murdered his ex wife nicole brown and friend ron goldman but civil court later found him guilty shocking the former american football player holds his hands the jury wearing the infamous gloves heartbreak simpson who was later actor poses with his arm round his wife 1993 \n",
            "Original summary: suarez was banned after biting giorgio chiellini world cup match but who else makes sportsmail's hall shame \n",
            "Predicted summary:  the first time the world cup the world cup the world cup the world cup the world cup the world cup the world cup the world cup\n",
            "\n",
            "\n",
            "Review: suffering seizure medics queen elizabeth hospital birmingham were forced rosie because her seizure was bad but when she eventually came around her memories were gone rosie pictured with her mother helen and brothers ollie and rhys still does not remember her childhood mother helen trying help her trigger memories that she has forgotten her mother said woke and looked with blank expression and said are you ã¢â€â was heartbroken and terrified ã¢â€â™ she added ã¢â€â˜i thought she would never remember me after few hours she began recognise and even asked for her favourite childhood teddy bear lamb which still the only thing she remembers ã¢â€â˜i tried surround her with family and things that she might remember but she didnã¢â€â™t even recognise her two younger brothers ã¢â€â˜we even took her steps concert they were her favourite band but she couldnã¢â€â™t recognise any the songs ã¢â€â™ attempt her memory rosie has surrounded herself with old pictures creating wall photographs her bedroom rosie pictured with her brothers also has short term memory problems now rosie pictured baby now has write herself detailed instructions how carry out everyday tasks she unable remember how them she said ã¢â€â˜when looked the pictures could see how happy was the time but just draws blank head canã¢â€â™t think the actual event how was feeling the time ã¢â€â˜most people age look back high school the best years their life but canã¢â€â™t that can just look the pictures and imagine what must have been like ã¢â€â™ the teenager who also now suffers with short term memory loss has write down instructions for her bus journey work well help her complete everyday tasks rosie said ã¢â€â˜i panic iã¢â€â™m late and have had call mum sometimes because forget get off stop and ended the last stop with idea where am ã¢â€â˜itã¢â€â™s really stressful but long have routine can handle all great because itã¢â€â™s and can keep practicing until learn things and remember them despite her memory problems rosie currently training hair she pictured hospital with her baby brother who was born just few weeks before she fell ill rosie pictured child says suits her she able keep doing things until she remembers them her mother said ã¢â€â˜i try and encourage rosie not rely technology and just get the habit repeating things until they are really clear for her ã¢â€â˜we have laugh about and rosie just refers herself little bit rather than someone with memory problem ã¢â€â™ ava chief executive the society said 4 000 new cases the condition are identified every year the uk she said ã¢â€â˜the causes include infection and the immune system going rogue and attacking healthy tissue ã¢â€â˜it the that most likely attack the parts the brain responsible for memory ã¢â€â˜of those people who survive the mortality rate per cent without swift treatment seven out ten respond the anti viral drug ideally given with hours ã¢â€â˜however those whose memory has been attacked are unlikely recover that respect although what sufferers can develop better ways coping with their condition ã¢â€â™ \n",
            "Original summary: she woke up she did not know who her mother and brothers were she's now spent three years together her childhood using photos she says just wish had memories with the rosie still does not remember anything from before the illness she also has short term memory problems well \n",
            "Predicted summary:  the family was found her the home the mother was found the home the mother was found the home the mother was found the home the mother was found the home the mother was found the home the mother was found the home the mother was found the home\n",
            "\n",
            "\n",
            "Review: fifa presidential contender jerome champagne struggling get the support required challenge sepp blatter with the deadline present the bids only days away the frenchman has sent open letter the presidents fifa's member associations asking for their backing jerome champagne struggling gain the necessary backing launch his bid for the fifa presidency champagne wishes current fifa president sepp blatter the forthcoming elections former french player david wants stand for the presidency publicity stunt for fifa vice president prince ali bin al hussein also standing for the presidency under fifa's rules champagne must convince five the national associations endorse his campaign champagne who was fifa's international relations director until leaving january 2010 said statement 'the feeling exists that the final result the election set and that would risky sign them there also the fear being singled out punished ' champagne also described his rivals for football's top job prince ali bin hussein and former france player david without program ' \n",
            "Original summary: jerome champagne struggling gain support fifa presidency bid frenchman needs approval five nations stand against sepp blatter has sent letter presidents fifa's members asking for support champagne says believe they will punished for not backing blatter for another term david planning stand publicity stunt \n",
            "Predicted summary:  new york has been been been the first time the season the season the season the season the season the season the season the season the season the season\n",
            "\n",
            "\n",
            "Review: joshua gardner young georgia teen undergoing treatment this weekend after strangled death suspected fox that attacked him seemingly out nowhere wednesday ryan 13 was sitting street curb when the fox came from behind him and onto his arm quick thinking show bravery someone far older ryan reacted putting end the rampage before anyone else could hurt out nowhere 13 year old ryan undergoing treatment does not develop after ferocious fox likely infected with the virus onto his arm sat street curb according ryan was the second person bitten aggressive fox the immediate area less than two days ryan's attack occurred 7pm wednesday the hours that morning another victim was bitten nearby but the fox got away when fox attacked him ryan says was not but response that led him kill the wild animal looked and this thing bit me ' told looked and looked like but was not was fox ' and fox that hero bravely subdued the animal strangling death authorities said was likely the same fox that had bitten another georgia resident earlier that day 'it was onto arm and just grabbed and choked and let and just hit it ' said douglas county animal control manager frances mcmillan told the boy likely saved other residents the atlanta suburb from future attacks even took little effort put the fox out its misery 'he was defending himself and the fox died fairly easily ' mcmillan 'it was already weakened state ' authorities have now sent the fox tested for the deadly virus but ryan being treated the meantime 'they said was better ahead and get started with the shots than waiting the test come back ' told the douglas county sentinel there are only roughly two human deaths the united states each year making the attack the more rare and bizarre however mcmillan urging county residents vigilant and get their pets vaccinated \n",
            "Original summary: ryan 13 was sitting curb georgia wednesday when wild fox came out nowhere and locked onto his arm now getting treatment for after reports another fox attack just mile away emerged the same day \n",
            "Predicted summary:  the man was found the home the home was found the home the home the mother was found the home the mother was found the home the incident was found the home the incident was found the home the incident was found the home the incident\n",
            "\n",
            "\n",
            "Review: the west end the worldã¢â€â™s most expensive place which rent office space research shows rising demand saw london overtake hong kong last year become the city once again ã¢â€â“ and the west end the place there average london are now more than double those new 5th avenue and the business districts paris and sydney according the study rising demand has seen london overtake hong kong the most expensive place rent office space ã¢â€â˜as truly global city londonã¢â€â™s appeal continues ã¢â€â™ said flower head london markets property broker wakefield which carried out the research importantly expect grow further get into recovery mode following recession ã¢â€â™ the first time since the financial crash 2008 that london has regained the global crown the report said has consistently been sought after location for from wide range business sectors the west end london the most expensive part the city and home many technology media advertising and hedge fund increased sharply towards the end the year added helping london hong kong soaring demand from technology companies helped prices rise per cent over the year average london are double those the business district paris left and new york's 5th avenue right now costs average per square foot office space including rent service charges and property taxes this per cent more expensive than hong kong which was hampered last year slowdown global banking office space there costs average per square foot rio janeiro comes third with average price its south zone area new york eighth charging midtown manhattan across the were more subdued the second most expensive place britain was the square mile while manchester was third ã‚â£28 50 square foot \n",
            "Original summary: rising demands saw london hong kong city west end the most expensive area within the capital \n",
            "Predicted summary:  new president obama says the u s president obama says the u s president says the u s president says the u s president says the u s president says the president says the u s president says the president says the u s\n",
            "\n",
            "\n",
            "Review: robber dead after washington went wrong and left him the victim off shotgun blast channel johnson 18 approached man southeast street wednesday and announced was robbery say police however his 22 year old target managed the gun away from johnson and apparently fired robbery gone wrong teenager washington was killed after trying rob man with off shotgun pictured robbery channel johnson 18 announced 22 year old man southeast street just before 11am wednesday that intended rob him the encounter occurred before 11am johnson was found shot the back the teen was rushed the hospital what authorities told the washington was grave condition according the 22 year old remained the scene and cooperated with police the teen later died from his injuries police were not expected file charges turned the gun robber struggle ensued and left johnson with serious gunshot wound the back after his weapon was away from him police say the 22 year old man stayed the scene and cooperated being investigated death and not apparently crime any kind the incident was one four shootings reported the nation's capital wednesday alone another was part what police are investigating aggravated assault but were unsure according whether someone was actually hit bullet third potentially related incident occurred just outside the metro stop victim was breathing and conscious when paramedics took him away police are searching for three black men one whom may have worn mask the second two shootings fourth shooting appeared unrelated and involved man alabama avenue and 22nd who was also taken the hospital alive \n",
            "Original summary: police say channel johnson 18 was shot after approached 22 year old target washington street wednesday johnson announced was the man and present his gun before struggle ensued leaving johnson wounded johnson was taken washington hospital with grave injuries and later died \n",
            "Predicted summary:  the mother was arrested for the murder the mother was found the murder the mother was found the home the mother was found the home the mother was found the home the mother was found the home the mother was found the home the mother was found the home\n",
            "\n",
            "\n",
            "Review: has berkshire pictured mary the virgin church the village close relationship carole middleton left helping take care her daughter kate right file photo one source told the mail feeling that she just wanted with her family and out public view 'she extremely close carole who very much hands on grandmother between her and their nanny maria kate has all the help she needs with george while she feeling sick 'and somewhere she can just relax and herself ' the duchess ã¢â€â“ who has now returned london ã¢â€â“ has not been seen public since palace officials were forced announce her pregnancy last month several weeks earlier than intended due her sickness kate was hospitalised with and severe dehydration during her first pregnancy with george but doctors have been better prepared this time and may some medical experts have suggested even have treated her with drip home the duchess says she feels far more relaxed the middleton family's ã‚â£5million georgian mansion manor than kensington palace despite the presence spanish nanny maria kate's mother carole middleton has also been taking george off her daughter's hands source added 'don't fooled the fact that she has not been admitted hospital this time she just poorly the difference that her doctors have been able diagnose and treat her quicker she really has not been all well though ' the duchess was forced cancel her first solo overseas visit ã¢â€â“ trip malta ã¢â€â“ last month because the severity her condition last week she also cancelled visit project the art room london and several other forthcoming engagements have now been scratched out her diary buckingham palace announced yesterday that she expected take part the state visit the president the republic singapore october 21 however source warned 'her attendance will reviewed closer the time depending her health ' caitlin dean the charity pregnancy sickness support said not morning sickness chronic and debilitating condition that can cause sufferers vomit times day ' affects about per cent all pregnancies the condition thought caused elevated levels human which increases after causes severe vomiting and can lead dehydration weight loss and build up the blood urine called much more serious than the nausea commonly experienced expectant mothers the severe dehydration puts both mother and baby risk being deprived essential nutrients and sufferers can left vomiting times day with exhausting and hazardous consequences they cannot eat drink without and may lose per cent their body weight when they are supposed gaining about week can trigger build up the blood urine known the body tries compensate for lack food sufferers can also experience acid where stomach acid keeps repeating the throat hospital treatment for these women essential without feeding and fluids they are risk becoming dangerously dehydrated treatment typically includes injection the drug protect against blood clots triggered dehydration well vitamin one the vitamins most the condition for standard practice the condition can also affect the babyã¢â€â™s development and there risk will premature have very low birth weight severe cases the sickness can trigger miscarriage \n",
            "Original summary: duchess cambridge around ten weeks pregnant with her second child she has retreated her family home berkshire with prince george kate suffers from which causes severe vomiting aides have been forced cancel all for around two weeks \n",
            "Predicted summary:  the family was found the first time the family was found the first time the family was found the first time the family was found the first time the family was found the first time the family and the family\n",
            "\n",
            "\n",
            "Review: 52 est june 2013 not your conventional home' banner one soldier's wife shared the news and shamed her husband sign over the front door the home they shared the sign read home and was spotted reddit user washington state welcome home not this photo was taken reddit user washington state often the case with signs such this posted online not always possible know the full story however believed the picture was taken the town near seattle the town home military hospital and navy located sound recent weeks number military personnel have returned home from active duty the picture came from reddit user who had sent them after being shown the image coffee shop how should be more typical homecoming for returning soldiers 'this was taken woman who showed coffee place who sent me iã¢â€â™m 3rd party here just the first lucky come across it ' one random user had unique take the reddit thread 'in other news daniel returned home today from afghanistan warm reception from friends and family ' \n",
            "Original summary: photo was taken the pacific northwest and posted reddit \n",
            "Predicted summary:  the mother was found the home the home was found the home the mother was found the home the mother was found the home the mother was found the home the mother was found the home the mother was found the home the mother was found the home the\n",
            "\n",
            "\n",
            "Review: temperatures climbed toward the 90s across the washington metro region monday hundreds thousands people were left cope with the blistering heat utility crews worked restore power after violent that killed two people 6 year old boy was fatally injured while walking with his family sunday afternoon sterling virginia when heavy wind caused large section tree fall according spokesman for the county sheriff the boy whose name was not released died virginia hospital said second person was killed and another was injured maryland sunday when tree fell the car which they were riding according cpl clinton copeland spokesman for the prince george's county police department meanwhile utility crews restored power washington area nursing home that has been forced brave the elements since sunday afternoon cooling buses and emergency crews worked with building nurses and officials until power was restored about p m monday according pete spokesman for the district columbia fire and precautionary measure five people were transported area hospitals with heat related illness their conditions were not severe added electricity provider said monday that about 220 000 residences across the district columbia maryland and virginia were still the dark and without air conditioning following one the hottest days the year brutal onslaught record heat continued the eastern united states with temperature records set sunday baltimore maryland where hit 100 degrees and washington where was 98 monday afternoon damage had been reported across the region from 270 downed trees very large limbs including approximately full large trees according the district department transportation more than traffic signals remained out because power problems the department added the storm was part slow moving front that struck parts the northeast before moving south heat and warnings continue for the deep south parts georgia and south carolina through monday the heat index expected exceed 105 degrees cnn's angela jonathan and devon contributed this report \n",
            "Original summary: new power restored washington area nursing home massive leaves hundreds thousands without power metro washington two people were killed storm related incidents the storm was part slow moving front moving south \n",
            "Predicted summary:  new york was found the u s official says the u s official says the u s official says the u s official says the u s official says the u s official says the u s official says the u s official says the u s official says\n",
            "\n",
            "\n",
            "Review: argentina are set get more competitive rugby matches after was confirmed they will join expanded tri nations series from 2012 argentina are set join expanded tri nations tournament which scheduled start 2012 the international rugby board have made commitment argentina provide them with more international fixtures help fully integrate the into the international playing calendar proposed that argentina bronze the 2007 world cup will join australia new zealand and south africa create new four nation tournament the proposed format will see the four teams playing home and away basis meaning six matches per team and matches overall the tournament would played from mid august for eight nine week period through until early mid october rugby world cup year format would played through july and august former argentina captain admitted the decision well help provide the for participation growth within argentina cannot express the joy what this means for and the whole team the union argentina rugby who have been working this important project told the official web site we are delighted now get the chance become great rugby nation with the chance play top level international rugby annual basis this exciting development will vital growing the game across argentina and south america this historic moment and everyone argentina should proud chairman bernard also welcomed the decision tri nations governing body invite argentina take part the welcomes the news that argentina are invited join new four nations from 2012 key priority was finding solution that would lead argentina's integration into annual tournament structure we will work with all stakeholders try ensure that appropriate conditions invitation are met including the participation argentina's top players and the implementation sound and sustainable financial model added \n",
            "Original summary: argentina have been invited join expanded nations tournament the were keen provide the with some more competitive games argentina will face australia south africa and new zealand from 2012 season former argentina captain has welcomed the decision \n",
            "Predicted summary:  the first world cup the world cup the world cup the world cup the world cup the world cup the world cup the world cup the world cup\n",
            "\n",
            "\n"
          ],
          "name": "stdout"
        }
      ]
    }
  ]
}